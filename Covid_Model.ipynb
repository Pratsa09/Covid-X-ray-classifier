{
  "nbformat": 4,
  "nbformat_minor": 0,
  "metadata": {
    "colab": {
      "name": "Covid_Model.ipynb",
      "provenance": []
    },
    "kernelspec": {
      "name": "python3",
      "display_name": "Python 3"
    },
    "accelerator": "GPU"
  },
  "cells": [
    {
      "cell_type": "code",
      "metadata": {
        "id": "xj8U6_MItZV_"
      },
      "source": [
        "import pandas as pd\n",
        "import numpy as np\n",
        "import matplotlib.pyplot as plt\n"
      ],
      "execution_count": null,
      "outputs": []
    },
    {
      "cell_type": "code",
      "metadata": {
        "colab": {
          "base_uri": "https://localhost:8080/"
        },
        "id": "grbMjqpKuTvV",
        "outputId": "0c53c1bb-d922-4979-b855-bd27ddeffe3f"
      },
      "source": [
        "from zipfile import ZipFile\n",
        "file_name = \"prepped_data_zip.zip\"\n",
        "with ZipFile(file_name , 'r') as zip:\n",
        "  zip.extractall()\n",
        "  print(\"Done\")"
      ],
      "execution_count": null,
      "outputs": [
        {
          "output_type": "stream",
          "text": [
            "Done\n"
          ],
          "name": "stdout"
        }
      ]
    },
    {
      "cell_type": "code",
      "metadata": {
        "id": "MO6U4_wEu67D"
      },
      "source": [
        "TRAIN_PATH = \"prepped_data_zip/TRAIN\"\n",
        "VAL_PATH = \"prepped_data_zip/VAL\""
      ],
      "execution_count": null,
      "outputs": []
    },
    {
      "cell_type": "code",
      "metadata": {
        "id": "FhrS5Yv_u-DS"
      },
      "source": [
        "import keras\n",
        "from keras.layers import *\n",
        "from keras.layers import *\n",
        "from keras.preprocessing import image\n",
        "from tensorflow.keras import Sequential \n",
        "from tensorflow.keras.layers import SeparableConv2D, MaxPooling2D"
      ],
      "execution_count": null,
      "outputs": []
    },
    {
      "cell_type": "code",
      "metadata": {
        "id": "6mSYNIgsvVZ-"
      },
      "source": [
        "# Building the CNN sequential model\n",
        "model = Sequential()\n",
        "model.add(Conv2D(32 , kernel_size = (3,3), activation = 'relu',input_shape = (224,224,3)))\n",
        "model.add(Conv2D(64,(3,3),activation = 'relu'))\n",
        "model.add(MaxPooling2D(pool_size = (2,2)))\n",
        "model.add(Dropout(0.25))\n",
        "\n",
        "model.add(SeparableConv2D(64,(3,3),activation = 'relu' , strides = (1,1), \n",
        "                          padding = 'valid',dilation_rate = (1,1),depth_multiplier = 1 ,\n",
        "                          use_bias = True , depthwise_initializer = 'glorot_uniform',\n",
        "                          pointwise_initializer = 'glorot_uniform'))\n",
        "model.add(MaxPooling2D(pool_size = (2,2)))\n",
        "model.add(Dropout(0.25))\n",
        "\n",
        "model.add(SeparableConv2D(128,(3,3),activation = 'relu' , strides = (1,1), \n",
        "                          padding = 'valid',dilation_rate = (2,2),depth_multiplier = 1 ,\n",
        "                          use_bias = True , depthwise_initializer = 'glorot_uniform',\n",
        "                          pointwise_initializer = 'glorot_uniform'))\n",
        "model.add(MaxPooling2D(pool_size = (2,2)))\n",
        "model.add(Dropout(0.25))\n",
        "\n",
        "model.add(Flatten())\n",
        "model.add(Dense(64, activation = 'relu'))\n",
        "model.add(Dropout(0.25))\n",
        "model.add(Dense(1,activation = 'sigmoid'))\n",
        "\n",
        "\n",
        "model.compile(loss = keras.losses.binary_crossentropy, optimizer = 'Adam',metrics = ['accuracy'])\n",
        "\n",
        "# separable convolutions enable better/efficient feature extraction instead of traditional convolutions\n"
      ],
      "execution_count": null,
      "outputs": []
    },
    {
      "cell_type": "code",
      "metadata": {
        "colab": {
          "base_uri": "https://localhost:8080/"
        },
        "id": "ghabCmmFxdo9",
        "outputId": "c6348219-75f9-431d-c721-69d8fc0e0393"
      },
      "source": [
        "model.summary()"
      ],
      "execution_count": null,
      "outputs": [
        {
          "output_type": "stream",
          "text": [
            "Model: \"sequential\"\n",
            "_________________________________________________________________\n",
            "Layer (type)                 Output Shape              Param #   \n",
            "=================================================================\n",
            "conv2d (Conv2D)              (None, 222, 222, 32)      896       \n",
            "_________________________________________________________________\n",
            "conv2d_1 (Conv2D)            (None, 220, 220, 64)      18496     \n",
            "_________________________________________________________________\n",
            "max_pooling2d (MaxPooling2D) (None, 110, 110, 64)      0         \n",
            "_________________________________________________________________\n",
            "dropout (Dropout)            (None, 110, 110, 64)      0         \n",
            "_________________________________________________________________\n",
            "separable_conv2d (SeparableC (None, 108, 108, 64)      4736      \n",
            "_________________________________________________________________\n",
            "max_pooling2d_1 (MaxPooling2 (None, 54, 54, 64)        0         \n",
            "_________________________________________________________________\n",
            "dropout_1 (Dropout)          (None, 54, 54, 64)        0         \n",
            "_________________________________________________________________\n",
            "separable_conv2d_1 (Separabl (None, 50, 50, 128)       8896      \n",
            "_________________________________________________________________\n",
            "max_pooling2d_2 (MaxPooling2 (None, 25, 25, 128)       0         \n",
            "_________________________________________________________________\n",
            "dropout_2 (Dropout)          (None, 25, 25, 128)       0         \n",
            "_________________________________________________________________\n",
            "flatten (Flatten)            (None, 80000)             0         \n",
            "_________________________________________________________________\n",
            "dense (Dense)                (None, 64)                5120064   \n",
            "_________________________________________________________________\n",
            "dropout_3 (Dropout)          (None, 64)                0         \n",
            "_________________________________________________________________\n",
            "dense_1 (Dense)              (None, 1)                 65        \n",
            "=================================================================\n",
            "Total params: 5,153,153\n",
            "Trainable params: 5,153,153\n",
            "Non-trainable params: 0\n",
            "_________________________________________________________________\n"
          ],
          "name": "stdout"
        }
      ]
    },
    {
      "cell_type": "code",
      "metadata": {
        "id": "1zLNKZRPxhqm"
      },
      "source": [
        "\n",
        "\n",
        "train_datagen = image.ImageDataGenerator(\n",
        "    rescale = 1./255,\n",
        "    shear_range = 0.2,\n",
        "    zoom_range = 0.2,\n",
        "    horizontal_flip = True\n",
        "\n",
        ")\n",
        "\n",
        "test_dataset = image.ImageDataGenerator(rescale = 1./255)\n",
        "\n"
      ],
      "execution_count": null,
      "outputs": []
    },
    {
      "cell_type": "code",
      "metadata": {
        "colab": {
          "base_uri": "https://localhost:8080/"
        },
        "id": "S3p05gNexl8z",
        "outputId": "5716f475-559a-4aa4-d339-0592d296ed84"
      },
      "source": [
        "train_generator = train_datagen.flow_from_directory('Prepped_Data/TRAIN',\n",
        "      target_size = (224,224),\n",
        "      batch_size = 32,\n",
        "      class_mode = 'binary' )"
      ],
      "execution_count": null,
      "outputs": [
        {
          "output_type": "stream",
          "text": [
            "Found 310 images belonging to 2 classes.\n"
          ],
          "name": "stdout"
        }
      ]
    },
    {
      "cell_type": "code",
      "metadata": {
        "colab": {
          "base_uri": "https://localhost:8080/"
        },
        "id": "UYAY1R-2xpiO",
        "outputId": "d2c6cffc-c858-4629-d326-9fa603add63c"
      },
      "source": [
        "train_generator.class_indices"
      ],
      "execution_count": null,
      "outputs": [
        {
          "output_type": "execute_result",
          "data": {
            "text/plain": [
              "{'Covid': 0, 'Normal': 1}"
            ]
          },
          "metadata": {
            "tags": []
          },
          "execution_count": 12
        }
      ]
    },
    {
      "cell_type": "code",
      "metadata": {
        "colab": {
          "base_uri": "https://localhost:8080/"
        },
        "id": "Pi8U2F83xuIK",
        "outputId": "72338c0d-c999-46a3-c49f-cf4d4d9f04e2"
      },
      "source": [
        "validation_generator = test_dataset.flow_from_directory(\n",
        "    'Prepped_Data/VAL',\n",
        "    target_size = (224,224),\n",
        "    batch_size = 32,\n",
        "    class_mode = 'binary')"
      ],
      "execution_count": null,
      "outputs": [
        {
          "output_type": "stream",
          "text": [
            "Found 82 images belonging to 2 classes.\n"
          ],
          "name": "stdout"
        }
      ]
    },
    {
      "cell_type": "code",
      "metadata": {
        "colab": {
          "base_uri": "https://localhost:8080/"
        },
        "id": "bECOTi63xxKa",
        "outputId": "71f62898-a24b-4788-dbae-44b70574661d"
      },
      "source": [
        "hist =  model.fit(train_generator,steps_per_epoch = 8, epochs = 10 ,validation_data = validation_generator,\n",
        "                              validation_steps = 2)"
      ],
      "execution_count": null,
      "outputs": [
        {
          "output_type": "stream",
          "text": [
            "Epoch 1/10\n",
            "2/8 [======>.......................] - ETA: 0s - loss: 0.6931 - accuracy: 0.4844WARNING:tensorflow:Callbacks method `on_train_batch_end` is slow compared to the batch time (batch time: 0.0457s vs `on_train_batch_end` time: 0.1183s). Check your callbacks.\n",
            "8/8 [==============================] - 9s 1s/step - loss: 0.6812 - accuracy: 0.5935 - val_loss: 0.6668 - val_accuracy: 0.7344\n",
            "Epoch 2/10\n",
            "8/8 [==============================] - 9s 1s/step - loss: 0.4889 - accuracy: 0.8496 - val_loss: 0.2691 - val_accuracy: 0.9688\n",
            "Epoch 3/10\n",
            "8/8 [==============================] - 9s 1s/step - loss: 0.3619 - accuracy: 0.8537 - val_loss: 0.2763 - val_accuracy: 0.9844\n",
            "Epoch 4/10\n",
            "8/8 [==============================] - 9s 1s/step - loss: 0.3859 - accuracy: 0.8618 - val_loss: 0.4167 - val_accuracy: 0.9688\n",
            "Epoch 5/10\n",
            "8/8 [==============================] - 9s 1s/step - loss: 0.2312 - accuracy: 0.9065 - val_loss: 0.2462 - val_accuracy: 0.9062\n",
            "Epoch 6/10\n",
            "8/8 [==============================] - 9s 1s/step - loss: 0.1724 - accuracy: 0.9187 - val_loss: 0.1513 - val_accuracy: 0.9688\n",
            "Epoch 7/10\n",
            "8/8 [==============================] - 9s 1s/step - loss: 0.1370 - accuracy: 0.9390 - val_loss: 0.1460 - val_accuracy: 0.9844\n",
            "Epoch 8/10\n",
            "8/8 [==============================] - 9s 1s/step - loss: 0.1425 - accuracy: 0.9390 - val_loss: 0.1250 - val_accuracy: 0.9844\n",
            "Epoch 9/10\n",
            "8/8 [==============================] - 9s 1s/step - loss: 0.0725 - accuracy: 0.9797 - val_loss: 0.1003 - val_accuracy: 0.9688\n",
            "Epoch 10/10\n",
            "8/8 [==============================] - 9s 1s/step - loss: 0.1326 - accuracy: 0.9715 - val_loss: 0.1005 - val_accuracy: 0.9844\n"
          ],
          "name": "stdout"
        }
      ]
    },
    {
      "cell_type": "code",
      "metadata": {
        "id": "g4R42ie9B_RP"
      },
      "source": [
        ""
      ],
      "execution_count": null,
      "outputs": []
    }
  ]
}